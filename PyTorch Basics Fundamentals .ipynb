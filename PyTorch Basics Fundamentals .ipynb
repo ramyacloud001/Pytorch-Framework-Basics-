{
 "cells": [
  {
   "cell_type": "code",
   "execution_count": 1,
   "id": "cdde74e2",
   "metadata": {},
   "outputs": [],
   "source": [
    "import numpy as np \n",
    "import torch "
   ]
  },
  {
   "cell_type": "code",
   "execution_count": 2,
   "id": "22979463",
   "metadata": {},
   "outputs": [
    {
     "data": {
      "text/plain": [
       "tensor(10)"
      ]
     },
     "execution_count": 2,
     "metadata": {},
     "output_type": "execute_result"
    }
   ],
   "source": [
    "Scalar = torch.tensor(10)\n",
    "Scalar"
   ]
  },
  {
   "cell_type": "code",
   "execution_count": 3,
   "id": "d252ca45",
   "metadata": {},
   "outputs": [
    {
     "data": {
      "text/plain": [
       "0"
      ]
     },
     "execution_count": 3,
     "metadata": {},
     "output_type": "execute_result"
    }
   ],
   "source": [
    "Scalar.ndim"
   ]
  },
  {
   "cell_type": "code",
   "execution_count": 4,
   "id": "8a9ca643",
   "metadata": {},
   "outputs": [
    {
     "data": {
      "text/plain": [
       "<function Tensor.ndimension>"
      ]
     },
     "execution_count": 4,
     "metadata": {},
     "output_type": "execute_result"
    }
   ],
   "source": [
    "Scalar.ndimension"
   ]
  },
  {
   "cell_type": "code",
   "execution_count": 5,
   "id": "497c0649",
   "metadata": {},
   "outputs": [
    {
     "data": {
      "text/plain": [
       "torch.Size([])"
      ]
     },
     "execution_count": 5,
     "metadata": {},
     "output_type": "execute_result"
    }
   ],
   "source": [
    "Scalar.shape"
   ]
  },
  {
   "cell_type": "code",
   "execution_count": 6,
   "id": "5eb521e6",
   "metadata": {},
   "outputs": [
    {
     "data": {
      "text/plain": [
       "torch.Size([])"
      ]
     },
     "execution_count": 6,
     "metadata": {},
     "output_type": "execute_result"
    }
   ],
   "source": [
    "Scalar.size()"
   ]
  },
  {
   "cell_type": "code",
   "execution_count": 7,
   "id": "9a70a9eb",
   "metadata": {},
   "outputs": [
    {
     "data": {
      "text/plain": [
       "tensor([7, 1, 2])"
      ]
     },
     "execution_count": 7,
     "metadata": {},
     "output_type": "execute_result"
    }
   ],
   "source": [
    "# Vector represents on only single axis \n",
    "\n",
    "vector = torch.tensor([7 ,1,2])\n",
    "vector"
   ]
  },
  {
   "cell_type": "code",
   "execution_count": 8,
   "id": "63d03375",
   "metadata": {},
   "outputs": [
    {
     "data": {
      "text/plain": [
       "1"
      ]
     },
     "execution_count": 8,
     "metadata": {},
     "output_type": "execute_result"
    }
   ],
   "source": [
    "vector.ndim"
   ]
  },
  {
   "cell_type": "code",
   "execution_count": 9,
   "id": "fa7856f9",
   "metadata": {},
   "outputs": [
    {
     "data": {
      "text/plain": [
       "<function Tensor.ndimension>"
      ]
     },
     "execution_count": 9,
     "metadata": {},
     "output_type": "execute_result"
    }
   ],
   "source": [
    "vector.ndimension"
   ]
  },
  {
   "cell_type": "code",
   "execution_count": 10,
   "id": "7f2e3a12",
   "metadata": {},
   "outputs": [
    {
     "data": {
      "text/plain": [
       "torch.Size([3])"
      ]
     },
     "execution_count": 10,
     "metadata": {},
     "output_type": "execute_result"
    }
   ],
   "source": [
    "vector.shape"
   ]
  },
  {
   "cell_type": "code",
   "execution_count": 11,
   "id": "1375cda1",
   "metadata": {},
   "outputs": [
    {
     "data": {
      "text/plain": [
       "torch.Size([3])"
      ]
     },
     "execution_count": 11,
     "metadata": {},
     "output_type": "execute_result"
    }
   ],
   "source": [
    "vector.size()"
   ]
  },
  {
   "cell_type": "code",
   "execution_count": 12,
   "id": "0d2cc99f",
   "metadata": {},
   "outputs": [
    {
     "data": {
      "text/plain": [
       "tensor([[ 1,  2,  3],\n",
       "        [10, 11, 12]])"
      ]
     },
     "execution_count": 12,
     "metadata": {},
     "output_type": "execute_result"
    }
   ],
   "source": [
    "# Matrix is used to build 2d format data \n",
    "\n",
    "matrix = torch.tensor([[1,2,3],[10,11,12]])\n",
    "matrix"
   ]
  },
  {
   "cell_type": "code",
   "execution_count": 13,
   "id": "2bbd2f22",
   "metadata": {},
   "outputs": [
    {
     "data": {
      "text/plain": [
       "2"
      ]
     },
     "execution_count": 13,
     "metadata": {},
     "output_type": "execute_result"
    }
   ],
   "source": [
    "matrix.ndim"
   ]
  },
  {
   "cell_type": "code",
   "execution_count": 14,
   "id": "441826b7",
   "metadata": {},
   "outputs": [
    {
     "data": {
      "text/plain": [
       "torch.Size([2, 3])"
      ]
     },
     "execution_count": 14,
     "metadata": {},
     "output_type": "execute_result"
    }
   ],
   "source": [
    "matrix.shape"
   ]
  },
  {
   "cell_type": "code",
   "execution_count": 15,
   "id": "3afe2fbb",
   "metadata": {},
   "outputs": [
    {
     "data": {
      "text/plain": [
       "torch.Size([2, 3])"
      ]
     },
     "execution_count": 15,
     "metadata": {},
     "output_type": "execute_result"
    }
   ],
   "source": [
    "matrix.size()"
   ]
  },
  {
   "cell_type": "code",
   "execution_count": 16,
   "id": "1fdfb092",
   "metadata": {},
   "outputs": [
    {
     "data": {
      "text/plain": [
       "[2, 3]"
      ]
     },
     "execution_count": 16,
     "metadata": {},
     "output_type": "execute_result"
    }
   ],
   "source": [
    "individual_values = [i for i in matrix.size()]\n",
    "\n",
    "individual_values"
   ]
  },
  {
   "cell_type": "code",
   "execution_count": 17,
   "id": "b7b6e629",
   "metadata": {},
   "outputs": [
    {
     "data": {
      "text/plain": [
       "tensor(12)"
      ]
     },
     "execution_count": 17,
     "metadata": {},
     "output_type": "execute_result"
    }
   ],
   "source": [
    "matrix[1][2]"
   ]
  },
  {
   "cell_type": "code",
   "execution_count": 18,
   "id": "d6143e41",
   "metadata": {},
   "outputs": [
    {
     "data": {
      "text/plain": [
       "array([[ 1,  2,  3],\n",
       "       [10, 11, 12]])"
      ]
     },
     "execution_count": 18,
     "metadata": {},
     "output_type": "execute_result"
    }
   ],
   "source": [
    "numpy_array = np.array([[1,2,3],[10,11,12]])\n",
    "numpy_array"
   ]
  },
  {
   "cell_type": "code",
   "execution_count": 19,
   "id": "7954556b",
   "metadata": {},
   "outputs": [
    {
     "data": {
      "text/plain": [
       "2"
      ]
     },
     "execution_count": 19,
     "metadata": {},
     "output_type": "execute_result"
    }
   ],
   "source": [
    "numpy_array.ndim"
   ]
  },
  {
   "cell_type": "code",
   "execution_count": 20,
   "id": "2b807e7c",
   "metadata": {},
   "outputs": [
    {
     "data": {
      "text/plain": [
       "(2, 3)"
      ]
     },
     "execution_count": 20,
     "metadata": {},
     "output_type": "execute_result"
    }
   ],
   "source": [
    "numpy_array.shape"
   ]
  },
  {
   "cell_type": "code",
   "execution_count": 21,
   "id": "de016ab2",
   "metadata": {},
   "outputs": [
    {
     "data": {
      "text/plain": [
       "6"
      ]
     },
     "execution_count": 21,
     "metadata": {},
     "output_type": "execute_result"
    }
   ],
   "source": [
    "numpy_array.size"
   ]
  },
  {
   "cell_type": "code",
   "execution_count": 22,
   "id": "3834212f",
   "metadata": {},
   "outputs": [
    {
     "data": {
      "text/plain": [
       "tensor([[[ 1,  2,  3],\n",
       "         [10, 11, 12]]])"
      ]
     },
     "execution_count": 22,
     "metadata": {},
     "output_type": "execute_result"
    }
   ],
   "source": [
    "# tensors \n",
    "\n",
    "tensors = torch.tensor([[[1,2,3],[10,11,12]]])\n",
    "tensors"
   ]
  },
  {
   "cell_type": "code",
   "execution_count": 23,
   "id": "b4fbf141",
   "metadata": {},
   "outputs": [
    {
     "data": {
      "text/plain": [
       "torch.Size([1, 2, 3])"
      ]
     },
     "execution_count": 23,
     "metadata": {},
     "output_type": "execute_result"
    }
   ],
   "source": [
    "tensors.shape"
   ]
  },
  {
   "cell_type": "code",
   "execution_count": 24,
   "id": "3c90a853",
   "metadata": {},
   "outputs": [
    {
     "data": {
      "text/plain": [
       "torch.Size([1, 2, 3])"
      ]
     },
     "execution_count": 24,
     "metadata": {},
     "output_type": "execute_result"
    }
   ],
   "source": [
    "tensors.size()"
   ]
  },
  {
   "cell_type": "code",
   "execution_count": 25,
   "id": "a8520bb0",
   "metadata": {},
   "outputs": [
    {
     "data": {
      "text/plain": [
       "tensor(11)"
      ]
     },
     "execution_count": 25,
     "metadata": {},
     "output_type": "execute_result"
    }
   ],
   "source": [
    "tensors[0][1][1]"
   ]
  },
  {
   "cell_type": "code",
   "execution_count": 26,
   "id": "5346286b",
   "metadata": {},
   "outputs": [
    {
     "data": {
      "text/plain": [
       "3"
      ]
     },
     "execution_count": 26,
     "metadata": {},
     "output_type": "execute_result"
    }
   ],
   "source": [
    "tensors.ndim"
   ]
  },
  {
   "cell_type": "code",
   "execution_count": 27,
   "id": "ed00c400",
   "metadata": {},
   "outputs": [],
   "source": [
    "# Random concepts in torch "
   ]
  },
  {
   "cell_type": "code",
   "execution_count": 28,
   "id": "98f135bd",
   "metadata": {},
   "outputs": [
    {
     "name": "stdout",
     "output_type": "stream",
     "text": [
      "tensor([0.5873, 0.2950, 0.2980, 0.0123, 0.0893, 0.3237, 0.2747, 0.4044, 0.0777,\n",
      "        0.4283])\n",
      "1\n"
     ]
    }
   ],
   "source": [
    "torch_random_1d = torch.rand(10)\n",
    "print(torch_random_1d)\n",
    "print(torch_random_1d.ndim)\n"
   ]
  },
  {
   "cell_type": "code",
   "execution_count": 29,
   "id": "4632818d",
   "metadata": {},
   "outputs": [
    {
     "name": "stdout",
     "output_type": "stream",
     "text": [
      "tensor([[0.0479, 0.8783, 0.1068, 0.7275, 0.4087],\n",
      "        [0.9803, 0.2393, 0.6564, 0.9610, 0.0924],\n",
      "        [0.5788, 0.6773, 0.5206, 0.5636, 0.8856]])\n",
      "2\n"
     ]
    }
   ],
   "source": [
    "torch_random_1d = torch.rand(3,5)\n",
    "print(torch_random_1d)\n",
    "print(torch_random_1d.ndim)\n"
   ]
  },
  {
   "cell_type": "code",
   "execution_count": 30,
   "id": "3099e5c7",
   "metadata": {},
   "outputs": [
    {
     "name": "stdout",
     "output_type": "stream",
     "text": [
      "tensor([[[0.7800, 0.2806, 0.7431, 0.3481],\n",
      "         [0.2476, 0.2107, 0.1318, 0.0030],\n",
      "         [0.8221, 0.1294, 0.9114, 0.1805]],\n",
      "\n",
      "        [[0.3175, 0.7547, 0.6349, 0.2384],\n",
      "         [0.3497, 0.5089, 0.4353, 0.4522],\n",
      "         [0.7842, 0.6737, 0.8868, 0.0973]]])\n",
      "3\n"
     ]
    }
   ],
   "source": [
    "torch_random_1d = torch.rand(2,3,4)\n",
    "print(torch_random_1d)\n",
    "print(torch_random_1d.ndim)\n"
   ]
  },
  {
   "cell_type": "code",
   "execution_count": 31,
   "id": "bae4be73",
   "metadata": {},
   "outputs": [
    {
     "data": {
      "text/plain": [
       "tensor(0.2107)"
      ]
     },
     "execution_count": 31,
     "metadata": {},
     "output_type": "execute_result"
    }
   ],
   "source": [
    "# Accessing value\n",
    "\n",
    "torch_random_1d[0][1][1]"
   ]
  },
  {
   "cell_type": "code",
   "execution_count": 32,
   "id": "1ee46d22",
   "metadata": {},
   "outputs": [
    {
     "data": {
      "text/plain": [
       "tensor([[3, 4],\n",
       "        [9, 6]])"
      ]
     },
     "execution_count": 32,
     "metadata": {},
     "output_type": "execute_result"
    }
   ],
   "source": [
    "# using randint \n",
    "\n",
    "torch_random_randint = torch.randint(3, 10, (2, 2))\n",
    "torch_random_randint"
   ]
  },
  {
   "cell_type": "code",
   "execution_count": 33,
   "id": "b4cbd8bb",
   "metadata": {},
   "outputs": [
    {
     "data": {
      "text/plain": [
       "tensor([[12,  8],\n",
       "        [ 9,  0]])"
      ]
     },
     "execution_count": 33,
     "metadata": {},
     "output_type": "execute_result"
    }
   ],
   "source": [
    "torch_random_randint = torch.randint(20, (2, 2))\n",
    "torch_random_randint"
   ]
  },
  {
   "cell_type": "code",
   "execution_count": 34,
   "id": "54b87bfc",
   "metadata": {},
   "outputs": [
    {
     "data": {
      "text/plain": [
       "tensor([[0, 0, 0, 0],\n",
       "        [0, 0, 0, 0],\n",
       "        [0, 0, 0, 0]])"
      ]
     },
     "execution_count": 34,
     "metadata": {},
     "output_type": "execute_result"
    }
   ],
   "source": [
    "# Zero concept \n",
    "\n",
    "torch_random_zeros = torch.zeros(3,4,dtype = int)\n",
    "torch_random_zeros"
   ]
  },
  {
   "cell_type": "code",
   "execution_count": 35,
   "id": "b394970b",
   "metadata": {},
   "outputs": [
    {
     "data": {
      "text/plain": [
       "tensor([[1., 1., 1., 1.],\n",
       "        [1., 1., 1., 1.],\n",
       "        [1., 1., 1., 1.]], dtype=torch.float64)"
      ]
     },
     "execution_count": 35,
     "metadata": {},
     "output_type": "execute_result"
    }
   ],
   "source": [
    "# Ones concept \n",
    "\n",
    "torch_random_ones = torch.ones(3,4,dtype = float)\n",
    "torch_random_ones"
   ]
  },
  {
   "cell_type": "code",
   "execution_count": 36,
   "id": "00e69c27",
   "metadata": {},
   "outputs": [
    {
     "data": {
      "text/plain": [
       "tensor([ 0,  2,  4,  6,  8, 10, 12, 14, 16, 18])"
      ]
     },
     "execution_count": 36,
     "metadata": {},
     "output_type": "execute_result"
    }
   ],
   "source": [
    "# arange function\n",
    "torch_arange = torch.arange(start = 0 , end = 20 , step = 2)\n",
    "torch_arange"
   ]
  },
  {
   "cell_type": "code",
   "execution_count": 37,
   "id": "10b1ffef",
   "metadata": {},
   "outputs": [
    {
     "data": {
      "text/plain": [
       "tensor([0, 0, 0, 0, 0, 0, 0, 0, 0, 0])"
      ]
     },
     "execution_count": 37,
     "metadata": {},
     "output_type": "execute_result"
    }
   ],
   "source": [
    "torch_zeros_like = torch.zeros_like(torch_arange)\n",
    "torch_zeros_like"
   ]
  },
  {
   "cell_type": "code",
   "execution_count": 38,
   "id": "c531a518",
   "metadata": {},
   "outputs": [
    {
     "data": {
      "text/plain": [
       "tensor([[1, 1, 1],\n",
       "        [1, 1, 1]])"
      ]
     },
     "execution_count": 38,
     "metadata": {},
     "output_type": "execute_result"
    }
   ],
   "source": [
    "torch_empty = torch.empty(2,3,dtype = int)\n",
    "torch_empty = torch_empty.fill_(1)\n",
    "torch_empty"
   ]
  },
  {
   "cell_type": "code",
   "execution_count": 39,
   "id": "71c54f63",
   "metadata": {},
   "outputs": [
    {
     "data": {
      "text/plain": [
       "tensor([[1, 1, 1, 1, 1],\n",
       "        [1, 1, 1, 1, 1],\n",
       "        [1, 1, 1, 1, 1],\n",
       "        [1, 1, 1, 1, 1],\n",
       "        [1, 1, 1, 1, 1]])"
      ]
     },
     "execution_count": 39,
     "metadata": {},
     "output_type": "execute_result"
    }
   ],
   "source": [
    "torch_ones_like = torch.empty(5,5,dtype = int)\n",
    "torch_ones_like = torch.ones_like(torch_ones_like)\n",
    "torch_ones_like"
   ]
  },
  {
   "cell_type": "code",
   "execution_count": 40,
   "id": "2960207a",
   "metadata": {},
   "outputs": [
    {
     "data": {
      "text/plain": [
       "True"
      ]
     },
     "execution_count": 40,
     "metadata": {},
     "output_type": "execute_result"
    }
   ],
   "source": [
    "torch.cuda.is_available()"
   ]
  },
  {
   "cell_type": "code",
   "execution_count": 41,
   "id": "2cad39d7",
   "metadata": {},
   "outputs": [
    {
     "data": {
      "text/plain": [
       "'NVIDIA GeForce RTX 3060 Laptop GPU'"
      ]
     },
     "execution_count": 41,
     "metadata": {},
     "output_type": "execute_result"
    }
   ],
   "source": [
    "torch.cuda.get_device_name()"
   ]
  },
  {
   "cell_type": "code",
   "execution_count": 42,
   "id": "212316c2",
   "metadata": {},
   "outputs": [
    {
     "name": "stdout",
     "output_type": "stream",
     "text": [
      "values = tensor([ 1,  2, 11, 12], device='cuda:0')\n",
      "dim = 1\n",
      "shape = torch.Size([4])\n",
      "device = cuda:0\n"
     ]
    }
   ],
   "source": [
    "# checking Attributes in tensors\n",
    "\n",
    "attr = torch.tensor([1,2,11,12] ,device = 'cuda') # device = None means tensors working with cpu \n",
    "print('values = {}'.format(attr))\n",
    "print('dim = {}'.format(attr.ndim))\n",
    "print('shape = {}'.format(attr.shape))\n",
    "print('device = {}'.format(attr.device))"
   ]
  },
  {
   "cell_type": "markdown",
   "id": "20ec9ec8",
   "metadata": {},
   "source": [
    "# Tensor Operations \n",
    "\n",
    "- Addition \n",
    "- Multiplication \n",
    "- Division \n",
    "- Subtraction\n",
    "\n",
    "\n"
   ]
  },
  {
   "cell_type": "code",
   "execution_count": 43,
   "id": "03660c94",
   "metadata": {},
   "outputs": [
    {
     "data": {
      "text/plain": [
       "tensor([11, 12, 13])"
      ]
     },
     "execution_count": 43,
     "metadata": {},
     "output_type": "execute_result"
    }
   ],
   "source": [
    "tensor_opr = torch.tensor([1,2,3])\n",
    "tensor_opr + 10"
   ]
  },
  {
   "cell_type": "code",
   "execution_count": 44,
   "id": "367f4cf9",
   "metadata": {},
   "outputs": [
    {
     "data": {
      "text/plain": [
       "tensor([21, 22, 23])"
      ]
     },
     "execution_count": 44,
     "metadata": {},
     "output_type": "execute_result"
    }
   ],
   "source": [
    "torch.add(tensor_opr,20)"
   ]
  },
  {
   "cell_type": "code",
   "execution_count": 45,
   "id": "d7bed1ab",
   "metadata": {},
   "outputs": [
    {
     "data": {
      "text/plain": [
       "tensor([12, 14, 16])"
      ]
     },
     "execution_count": 45,
     "metadata": {},
     "output_type": "execute_result"
    }
   ],
   "source": [
    "a = torch.tensor([1,2,3])\n",
    "b = torch.tensor([11,12,13])\n",
    "\n",
    "torch.add(a,b)"
   ]
  },
  {
   "cell_type": "code",
   "execution_count": 46,
   "id": "983b3331",
   "metadata": {},
   "outputs": [
    {
     "name": "stdout",
     "output_type": "stream",
     "text": [
      "tensor([[ 1,  2,  3],\n",
      "        [10, 11, 12]])\n",
      "tensor([[100, 200, 300],\n",
      "        [500, 600, 700]])\n"
     ]
    },
    {
     "data": {
      "text/plain": [
       "tensor([[101, 202, 303],\n",
       "        [510, 611, 712]])"
      ]
     },
     "execution_count": 46,
     "metadata": {},
     "output_type": "execute_result"
    }
   ],
   "source": [
    "a = torch.tensor([[1,2,3] , [10,11,12]])\n",
    "b = torch.tensor([[100,200,300] , [500,600,700]])\n",
    "print(a)\n",
    "print(b)\n",
    "torch.add(a,b)\n"
   ]
  },
  {
   "cell_type": "code",
   "execution_count": 47,
   "id": "9352382c",
   "metadata": {},
   "outputs": [
    {
     "data": {
      "text/plain": [
       "tensor([-9, -8, -7])"
      ]
     },
     "execution_count": 47,
     "metadata": {},
     "output_type": "execute_result"
    }
   ],
   "source": [
    "# subtraction\n",
    "\n",
    "tensor_opr = torch.tensor([1,2,3])\n",
    "tensor_opr - 10"
   ]
  },
  {
   "cell_type": "code",
   "execution_count": 48,
   "id": "e5170b51",
   "metadata": {},
   "outputs": [
    {
     "data": {
      "text/plain": [
       "tensor([-9, -8, -7])"
      ]
     },
     "execution_count": 48,
     "metadata": {},
     "output_type": "execute_result"
    }
   ],
   "source": [
    "tensor_opr = torch.tensor([1,2,3])\n",
    "torch.sub(tensor_opr,10)"
   ]
  },
  {
   "cell_type": "code",
   "execution_count": 49,
   "id": "e9b77e3a",
   "metadata": {},
   "outputs": [
    {
     "data": {
      "text/plain": [
       "tensor([0.1000, 0.2000, 0.3000])"
      ]
     },
     "execution_count": 49,
     "metadata": {},
     "output_type": "execute_result"
    }
   ],
   "source": [
    "# division \n",
    "\n",
    "tensor_opr = torch.tensor([1,2,3])\n",
    "tensor_opr / 10"
   ]
  },
  {
   "cell_type": "code",
   "execution_count": 50,
   "id": "94013fd6",
   "metadata": {},
   "outputs": [
    {
     "data": {
      "text/plain": [
       "tensor([0.1000, 0.2000, 0.3000])"
      ]
     },
     "execution_count": 50,
     "metadata": {},
     "output_type": "execute_result"
    }
   ],
   "source": [
    "tensor_opr = torch.tensor([1,2,3])\n",
    "torch.div(tensor_opr,10)"
   ]
  },
  {
   "cell_type": "code",
   "execution_count": 51,
   "id": "6b7fc507",
   "metadata": {},
   "outputs": [
    {
     "data": {
      "text/plain": [
       "tensor([10, 20, 30])"
      ]
     },
     "execution_count": 51,
     "metadata": {},
     "output_type": "execute_result"
    }
   ],
   "source": [
    "# Multiplication can be done in two days element to element and matrix to matrix \n",
    "\n",
    "tensor_opr = torch.tensor([1,2,3])\n",
    "tensor_opr * 10"
   ]
  },
  {
   "cell_type": "code",
   "execution_count": 52,
   "id": "86ade3b5",
   "metadata": {},
   "outputs": [
    {
     "name": "stdout",
     "output_type": "stream",
     "text": [
      "tensor([[ 1,  2,  3],\n",
      "        [10, 11, 12]])\n"
     ]
    }
   ],
   "source": [
    "a = torch.tensor([[1,2,3] , [10,11,12]])\n",
    "print(a)"
   ]
  },
  {
   "cell_type": "code",
   "execution_count": 53,
   "id": "5828923a",
   "metadata": {},
   "outputs": [
    {
     "data": {
      "text/plain": [
       "tensor([[ 10,  20,  30],\n",
       "        [100, 110, 120]])"
      ]
     },
     "execution_count": 53,
     "metadata": {},
     "output_type": "execute_result"
    }
   ],
   "source": [
    "a * 10"
   ]
  },
  {
   "cell_type": "code",
   "execution_count": 54,
   "id": "c45cb6b4",
   "metadata": {},
   "outputs": [
    {
     "name": "stdout",
     "output_type": "stream",
     "text": [
      "tensor([[ 1,  2,  3],\n",
      "        [10, 11, 12]])\n",
      "\n",
      "tensor([[2, 3],\n",
      "        [5, 7],\n",
      "        [2, 7]])\n",
      "\n",
      "tensor([[ 18,  38],\n",
      "        [ 99, 191]])\n"
     ]
    }
   ],
   "source": [
    "a = torch.tensor([[1,2,3] , [10,11,12]])\n",
    "b = torch.tensor([[2,3] , [5,7] , [2,7]])\n",
    "\n",
    "print(a)\n",
    "print()\n",
    "print(b)\n",
    "print()\n",
    "\n",
    "print(torch.matmul(a,b))"
   ]
  },
  {
   "cell_type": "code",
   "execution_count": 55,
   "id": "39f8c7ec",
   "metadata": {},
   "outputs": [
    {
     "name": "stdout",
     "output_type": "stream",
     "text": [
      "tensor([[ 1,  2,  3],\n",
      "        [10, 11, 12]])\n",
      "\n",
      "tensor([[2, 3],\n",
      "        [5, 7],\n",
      "        [2, 7]])\n",
      "\n",
      "tensor([[ 18,  38],\n",
      "        [ 99, 191]])\n",
      "Wall time: 2 ms\n"
     ]
    }
   ],
   "source": [
    "%%time \n",
    "\n",
    "a = torch.tensor([[1,2,3] , [10,11,12]])\n",
    "b = torch.tensor([[2,3] , [5,7] , [2,7]])\n",
    "\n",
    "print(a)\n",
    "print()\n",
    "print(b)\n",
    "print()\n",
    "\n",
    "print(torch.matmul(a,b))"
   ]
  },
  {
   "cell_type": "code",
   "execution_count": 56,
   "id": "51c2e58b",
   "metadata": {},
   "outputs": [
    {
     "name": "stdout",
     "output_type": "stream",
     "text": [
      "tensor([ 1,  2,  3,  4,  5,  6,  7,  8,  9, 10])\n"
     ]
    },
    {
     "data": {
      "text/plain": [
       "tensor(10)"
      ]
     },
     "execution_count": 56,
     "metadata": {},
     "output_type": "execute_result"
    }
   ],
   "source": [
    "# Max Min sum and Mean \n",
    "# id \n",
    "a = torch.arange(1,11)\n",
    "print(a)\n",
    "a.max()"
   ]
  },
  {
   "cell_type": "code",
   "execution_count": 57,
   "id": "97c6085d",
   "metadata": {},
   "outputs": [
    {
     "data": {
      "text/plain": [
       "tensor(10)"
      ]
     },
     "execution_count": 57,
     "metadata": {},
     "output_type": "execute_result"
    }
   ],
   "source": [
    "torch.max(a)"
   ]
  },
  {
   "cell_type": "code",
   "execution_count": 58,
   "id": "0c8b3260",
   "metadata": {},
   "outputs": [
    {
     "data": {
      "text/plain": [
       "tensor(1)"
      ]
     },
     "execution_count": 58,
     "metadata": {},
     "output_type": "execute_result"
    }
   ],
   "source": [
    "torch.min(a)"
   ]
  },
  {
   "cell_type": "code",
   "execution_count": 59,
   "id": "f48a431c",
   "metadata": {},
   "outputs": [
    {
     "data": {
      "text/plain": [
       "tensor(55)"
      ]
     },
     "execution_count": 59,
     "metadata": {},
     "output_type": "execute_result"
    }
   ],
   "source": [
    "torch.sum(a)"
   ]
  },
  {
   "cell_type": "code",
   "execution_count": 60,
   "id": "0db5f049",
   "metadata": {},
   "outputs": [
    {
     "data": {
      "text/plain": [
       "tensor(5.5000)"
      ]
     },
     "execution_count": 60,
     "metadata": {},
     "output_type": "execute_result"
    }
   ],
   "source": [
    "torch.mean(a.type(torch.float32))   # to work with the mean we need to make values as an float dtype "
   ]
  },
  {
   "cell_type": "code",
   "execution_count": 61,
   "id": "6f70cee9",
   "metadata": {},
   "outputs": [
    {
     "data": {
      "text/plain": [
       "tensor(12)"
      ]
     },
     "execution_count": 61,
     "metadata": {},
     "output_type": "execute_result"
    }
   ],
   "source": [
    "# 2d \n",
    "\n",
    "b = torch.tensor([[1,2,3] , [10,11,12]])\n",
    "torch.max(b)"
   ]
  },
  {
   "cell_type": "code",
   "execution_count": 62,
   "id": "54c223cf",
   "metadata": {},
   "outputs": [
    {
     "data": {
      "text/plain": [
       "tensor(1)"
      ]
     },
     "execution_count": 62,
     "metadata": {},
     "output_type": "execute_result"
    }
   ],
   "source": [
    "torch.min(b)"
   ]
  },
  {
   "cell_type": "code",
   "execution_count": 63,
   "id": "334a345f",
   "metadata": {},
   "outputs": [
    {
     "data": {
      "text/plain": [
       "tensor(39)"
      ]
     },
     "execution_count": 63,
     "metadata": {},
     "output_type": "execute_result"
    }
   ],
   "source": [
    "torch.sum(b)"
   ]
  },
  {
   "cell_type": "code",
   "execution_count": 64,
   "id": "988b2590",
   "metadata": {},
   "outputs": [
    {
     "name": "stdout",
     "output_type": "stream",
     "text": [
      "tensor([[ 1,  2,  3],\n",
      "        [10, 11, 12]])\n"
     ]
    }
   ],
   "source": [
    "print(b)"
   ]
  },
  {
   "cell_type": "code",
   "execution_count": 65,
   "id": "c15ec84a",
   "metadata": {},
   "outputs": [
    {
     "data": {
      "text/plain": [
       "tensor(6.5000)"
      ]
     },
     "execution_count": 65,
     "metadata": {},
     "output_type": "execute_result"
    }
   ],
   "source": [
    "torch.mean(b.type(torch.float32))"
   ]
  },
  {
   "cell_type": "code",
   "execution_count": 66,
   "id": "9679fef7",
   "metadata": {},
   "outputs": [
    {
     "data": {
      "text/plain": [
       "tensor(6.5000, dtype=torch.float64)"
      ]
     },
     "execution_count": 66,
     "metadata": {},
     "output_type": "execute_result"
    }
   ],
   "source": [
    "# or \n",
    "\n",
    "b.type(torch.float64).mean()"
   ]
  },
  {
   "cell_type": "code",
   "execution_count": 67,
   "id": "1694bdc7",
   "metadata": {},
   "outputs": [
    {
     "data": {
      "text/plain": [
       "tensor([5.5000, 6.5000, 7.5000])"
      ]
     },
     "execution_count": 67,
     "metadata": {},
     "output_type": "execute_result"
    }
   ],
   "source": [
    "torch.mean(b.type(torch.float32),dim = 0)  # column wise "
   ]
  },
  {
   "cell_type": "code",
   "execution_count": 68,
   "id": "c5358000",
   "metadata": {},
   "outputs": [
    {
     "data": {
      "text/plain": [
       "tensor([ 2., 11.])"
      ]
     },
     "execution_count": 68,
     "metadata": {},
     "output_type": "execute_result"
    }
   ],
   "source": [
    "torch.mean(b.type(torch.float32) , dim = 1)  # row wise "
   ]
  },
  {
   "cell_type": "code",
   "execution_count": 69,
   "id": "9cf848c9",
   "metadata": {},
   "outputs": [
    {
     "name": "stdout",
     "output_type": "stream",
     "text": [
      "[5.5 6.5 7.5]\n"
     ]
    }
   ],
   "source": [
    "print(np.array([[1,2,3] , [10,11,12]]).mean(axis = 0))  # checking with numpy codes "
   ]
  },
  {
   "cell_type": "code",
   "execution_count": 70,
   "id": "10ac962d",
   "metadata": {},
   "outputs": [
    {
     "data": {
      "text/plain": [
       "tensor([11, 13, 15])"
      ]
     },
     "execution_count": 70,
     "metadata": {},
     "output_type": "execute_result"
    }
   ],
   "source": [
    "torch.sum(b,dim = 0)\n"
   ]
  },
  {
   "cell_type": "code",
   "execution_count": 71,
   "id": "cd35ace1",
   "metadata": {},
   "outputs": [
    {
     "data": {
      "text/plain": [
       "tensor([ 6, 33])"
      ]
     },
     "execution_count": 71,
     "metadata": {},
     "output_type": "execute_result"
    }
   ],
   "source": [
    "torch.sum(b,dim=1)"
   ]
  },
  {
   "cell_type": "code",
   "execution_count": 72,
   "id": "20012ebf",
   "metadata": {},
   "outputs": [
    {
     "data": {
      "text/plain": [
       "tensor([ 1,  2,  3,  4,  5,  6,  7,  8,  9, 10])"
      ]
     },
     "execution_count": 72,
     "metadata": {},
     "output_type": "execute_result"
    }
   ],
   "source": [
    "## argmax and argmin will give index positions about value \n",
    "\n",
    "a"
   ]
  },
  {
   "cell_type": "code",
   "execution_count": 73,
   "id": "7e858b80",
   "metadata": {},
   "outputs": [
    {
     "data": {
      "text/plain": [
       "tensor(9)"
      ]
     },
     "execution_count": 73,
     "metadata": {},
     "output_type": "execute_result"
    }
   ],
   "source": [
    "torch.argmax(a)  # max value is in 9th index position "
   ]
  },
  {
   "cell_type": "code",
   "execution_count": 74,
   "id": "b742cfd9",
   "metadata": {},
   "outputs": [
    {
     "data": {
      "text/plain": [
       "tensor(10)"
      ]
     },
     "execution_count": 74,
     "metadata": {},
     "output_type": "execute_result"
    }
   ],
   "source": [
    "a[9]"
   ]
  },
  {
   "cell_type": "code",
   "execution_count": 75,
   "id": "3407cf70",
   "metadata": {},
   "outputs": [
    {
     "data": {
      "text/plain": [
       "tensor(0)"
      ]
     },
     "execution_count": 75,
     "metadata": {},
     "output_type": "execute_result"
    }
   ],
   "source": [
    "a.argmin()"
   ]
  },
  {
   "cell_type": "code",
   "execution_count": 76,
   "id": "1e1cbe7b",
   "metadata": {},
   "outputs": [
    {
     "data": {
      "text/plain": [
       "tensor(1)"
      ]
     },
     "execution_count": 76,
     "metadata": {},
     "output_type": "execute_result"
    }
   ],
   "source": [
    "a[0]"
   ]
  },
  {
   "cell_type": "code",
   "execution_count": 77,
   "id": "5e642e5a",
   "metadata": {},
   "outputs": [
    {
     "data": {
      "text/plain": [
       "tensor([[ 1,  2,  3],\n",
       "        [10, 11, 12]])"
      ]
     },
     "execution_count": 77,
     "metadata": {},
     "output_type": "execute_result"
    }
   ],
   "source": [
    "# with 2d \n",
    "\n",
    "b"
   ]
  },
  {
   "cell_type": "code",
   "execution_count": 78,
   "id": "f0d4cec8",
   "metadata": {},
   "outputs": [
    {
     "data": {
      "text/plain": [
       "tensor([1, 1, 1])"
      ]
     },
     "execution_count": 78,
     "metadata": {},
     "output_type": "execute_result"
    }
   ],
   "source": [
    "torch.argmax(b,dim = 0) # columns "
   ]
  },
  {
   "cell_type": "code",
   "execution_count": 79,
   "id": "5be4ff04",
   "metadata": {},
   "outputs": [
    {
     "data": {
      "text/plain": [
       "tensor([2, 2])"
      ]
     },
     "execution_count": 79,
     "metadata": {},
     "output_type": "execute_result"
    }
   ],
   "source": [
    "torch.argmax(b,dim=1) # row wise "
   ]
  },
  {
   "cell_type": "code",
   "execution_count": 80,
   "id": "1d128454",
   "metadata": {},
   "outputs": [
    {
     "data": {
      "text/plain": [
       "tensor([0, 0, 0])"
      ]
     },
     "execution_count": 80,
     "metadata": {},
     "output_type": "execute_result"
    }
   ],
   "source": [
    "torch.argmin(b,dim=0)  # column wise "
   ]
  },
  {
   "cell_type": "code",
   "execution_count": 81,
   "id": "60e4e753",
   "metadata": {},
   "outputs": [
    {
     "data": {
      "text/plain": [
       "tensor([0, 0])"
      ]
     },
     "execution_count": 81,
     "metadata": {},
     "output_type": "execute_result"
    }
   ],
   "source": [
    "torch.argmin(b,dim=1) # row wise "
   ]
  },
  {
   "cell_type": "code",
   "execution_count": 82,
   "id": "baa6a2f4",
   "metadata": {},
   "outputs": [
    {
     "name": "stdout",
     "output_type": "stream",
     "text": [
      "2\n",
      "tensor([[ 1,  2,  3,  4,  5,  6],\n",
      "        [ 7,  8,  9, 10, 11, 12],\n",
      "        [13, 14, 15, 16, 17, 18],\n",
      "        [19, 20, 21, 22, 23, 24],\n",
      "        [25, 26, 27, 28, 29, 30],\n",
      "        [31, 32, 33, 34, 35, 36],\n",
      "        [37, 38, 39, 40, 41, 42],\n",
      "        [43, 44, 45, 46, 47, 48],\n",
      "        [49, 50, 51, 52, 53, 54],\n",
      "        [55, 56, 57, 58, 59, 60]])\n"
     ]
    }
   ],
   "source": [
    "# Reshaping \n",
    "\n",
    "values = torch.arange(1,61).reshape(10,6)\n",
    "print(values.ndim)\n",
    "print(values)"
   ]
  },
  {
   "cell_type": "code",
   "execution_count": 83,
   "id": "b949afbf",
   "metadata": {},
   "outputs": [
    {
     "data": {
      "text/plain": [
       "tensor(15)"
      ]
     },
     "execution_count": 83,
     "metadata": {},
     "output_type": "execute_result"
    }
   ],
   "source": [
    "values[2][2]"
   ]
  },
  {
   "cell_type": "code",
   "execution_count": 84,
   "id": "79542e52",
   "metadata": {},
   "outputs": [
    {
     "name": "stdout",
     "output_type": "stream",
     "text": [
      "3\n",
      "tensor([[[ 1,  2,  3,  4,  5,  6],\n",
      "         [ 7,  8,  9, 10, 11, 12]],\n",
      "\n",
      "        [[13, 14, 15, 16, 17, 18],\n",
      "         [19, 20, 21, 22, 23, 24]],\n",
      "\n",
      "        [[25, 26, 27, 28, 29, 30],\n",
      "         [31, 32, 33, 34, 35, 36]],\n",
      "\n",
      "        [[37, 38, 39, 40, 41, 42],\n",
      "         [43, 44, 45, 46, 47, 48]],\n",
      "\n",
      "        [[49, 50, 51, 52, 53, 54],\n",
      "         [55, 56, 57, 58, 59, 60]]])\n"
     ]
    }
   ],
   "source": [
    "values = torch.arange(1,61).reshape(5,2,6)\n",
    "print(values.ndim)\n",
    "print(values)"
   ]
  },
  {
   "cell_type": "code",
   "execution_count": 85,
   "id": "a4257ee3",
   "metadata": {},
   "outputs": [
    {
     "data": {
      "text/plain": [
       "tensor(20)"
      ]
     },
     "execution_count": 85,
     "metadata": {},
     "output_type": "execute_result"
    }
   ],
   "source": [
    "values[1][1][1]"
   ]
  },
  {
   "cell_type": "code",
   "execution_count": 86,
   "id": "7e09f1f8",
   "metadata": {},
   "outputs": [],
   "source": [
    "values = values.flatten()\n"
   ]
  },
  {
   "cell_type": "code",
   "execution_count": 87,
   "id": "11ac3367",
   "metadata": {},
   "outputs": [
    {
     "data": {
      "text/plain": [
       "tensor([ 1,  2,  3,  4,  5,  6,  7,  8,  9, 10, 11, 12, 13, 14, 15, 16, 17, 18,\n",
       "        19, 20, 21, 22, 23, 24, 25, 26, 27, 28, 29, 30, 31, 32, 33, 34, 35, 36,\n",
       "        37, 38, 39, 40, 41, 42, 43, 44, 45, 46, 47, 48, 49, 50, 51, 52, 53, 54,\n",
       "        55, 56, 57, 58, 59, 60])"
      ]
     },
     "execution_count": 87,
     "metadata": {},
     "output_type": "execute_result"
    }
   ],
   "source": [
    "values"
   ]
  },
  {
   "cell_type": "code",
   "execution_count": 88,
   "id": "12bae32d",
   "metadata": {},
   "outputs": [
    {
     "data": {
      "text/plain": [
       "1"
      ]
     },
     "execution_count": 88,
     "metadata": {},
     "output_type": "execute_result"
    }
   ],
   "source": [
    "values.ndim"
   ]
  },
  {
   "cell_type": "code",
   "execution_count": 89,
   "id": "87dc126e",
   "metadata": {},
   "outputs": [],
   "source": [
    "# Vstack and hstack \n",
    "\n",
    "values_a = torch.arange(1,61).reshape(10,6)\n",
    "values_b = torch.arange(61,121).reshape(10,6)\n",
    "\n"
   ]
  },
  {
   "cell_type": "code",
   "execution_count": 90,
   "id": "063e7207",
   "metadata": {},
   "outputs": [
    {
     "data": {
      "text/plain": [
       "(tensor([[ 1,  2,  3,  4,  5,  6],\n",
       "         [ 7,  8,  9, 10, 11, 12],\n",
       "         [13, 14, 15, 16, 17, 18],\n",
       "         [19, 20, 21, 22, 23, 24],\n",
       "         [25, 26, 27, 28, 29, 30],\n",
       "         [31, 32, 33, 34, 35, 36],\n",
       "         [37, 38, 39, 40, 41, 42],\n",
       "         [43, 44, 45, 46, 47, 48],\n",
       "         [49, 50, 51, 52, 53, 54],\n",
       "         [55, 56, 57, 58, 59, 60]]),\n",
       " tensor([[ 61,  62,  63,  64,  65,  66],\n",
       "         [ 67,  68,  69,  70,  71,  72],\n",
       "         [ 73,  74,  75,  76,  77,  78],\n",
       "         [ 79,  80,  81,  82,  83,  84],\n",
       "         [ 85,  86,  87,  88,  89,  90],\n",
       "         [ 91,  92,  93,  94,  95,  96],\n",
       "         [ 97,  98,  99, 100, 101, 102],\n",
       "         [103, 104, 105, 106, 107, 108],\n",
       "         [109, 110, 111, 112, 113, 114],\n",
       "         [115, 116, 117, 118, 119, 120]]))"
      ]
     },
     "execution_count": 90,
     "metadata": {},
     "output_type": "execute_result"
    }
   ],
   "source": [
    "values_a , values_b"
   ]
  },
  {
   "cell_type": "code",
   "execution_count": 91,
   "id": "14a5d72b",
   "metadata": {},
   "outputs": [
    {
     "data": {
      "text/plain": [
       "tensor([[  1,   2,   3,   4,   5,   6],\n",
       "        [  7,   8,   9,  10,  11,  12],\n",
       "        [ 13,  14,  15,  16,  17,  18],\n",
       "        [ 19,  20,  21,  22,  23,  24],\n",
       "        [ 25,  26,  27,  28,  29,  30],\n",
       "        [ 31,  32,  33,  34,  35,  36],\n",
       "        [ 37,  38,  39,  40,  41,  42],\n",
       "        [ 43,  44,  45,  46,  47,  48],\n",
       "        [ 49,  50,  51,  52,  53,  54],\n",
       "        [ 55,  56,  57,  58,  59,  60],\n",
       "        [ 61,  62,  63,  64,  65,  66],\n",
       "        [ 67,  68,  69,  70,  71,  72],\n",
       "        [ 73,  74,  75,  76,  77,  78],\n",
       "        [ 79,  80,  81,  82,  83,  84],\n",
       "        [ 85,  86,  87,  88,  89,  90],\n",
       "        [ 91,  92,  93,  94,  95,  96],\n",
       "        [ 97,  98,  99, 100, 101, 102],\n",
       "        [103, 104, 105, 106, 107, 108],\n",
       "        [109, 110, 111, 112, 113, 114],\n",
       "        [115, 116, 117, 118, 119, 120]])"
      ]
     },
     "execution_count": 91,
     "metadata": {},
     "output_type": "execute_result"
    }
   ],
   "source": [
    "vstack_torch = torch.vstack((values_a,values_b))\n",
    "vstack_torch"
   ]
  },
  {
   "cell_type": "code",
   "execution_count": 92,
   "id": "d53b11e5",
   "metadata": {},
   "outputs": [
    {
     "data": {
      "text/plain": [
       "tensor([[  1,   2,   3,   4,   5,   6,  61,  62,  63,  64,  65,  66],\n",
       "        [  7,   8,   9,  10,  11,  12,  67,  68,  69,  70,  71,  72],\n",
       "        [ 13,  14,  15,  16,  17,  18,  73,  74,  75,  76,  77,  78],\n",
       "        [ 19,  20,  21,  22,  23,  24,  79,  80,  81,  82,  83,  84],\n",
       "        [ 25,  26,  27,  28,  29,  30,  85,  86,  87,  88,  89,  90],\n",
       "        [ 31,  32,  33,  34,  35,  36,  91,  92,  93,  94,  95,  96],\n",
       "        [ 37,  38,  39,  40,  41,  42,  97,  98,  99, 100, 101, 102],\n",
       "        [ 43,  44,  45,  46,  47,  48, 103, 104, 105, 106, 107, 108],\n",
       "        [ 49,  50,  51,  52,  53,  54, 109, 110, 111, 112, 113, 114],\n",
       "        [ 55,  56,  57,  58,  59,  60, 115, 116, 117, 118, 119, 120]])"
      ]
     },
     "execution_count": 92,
     "metadata": {},
     "output_type": "execute_result"
    }
   ],
   "source": [
    "hstack_torch = torch.hstack((values_a,values_b))\n",
    "hstack_torch"
   ]
  },
  {
   "cell_type": "code",
   "execution_count": 93,
   "id": "ef3b705c",
   "metadata": {},
   "outputs": [],
   "source": [
    "# Squeeze\n",
    "# unsqueeze\n",
    "# Permute "
   ]
  },
  {
   "cell_type": "code",
   "execution_count": 94,
   "id": "42b03a9c",
   "metadata": {},
   "outputs": [],
   "source": [
    "# Squeeze -> removes all the single dimensions from the selected tensor \n",
    "# unsqueeze -> adds single dim to the selected tensor "
   ]
  },
  {
   "cell_type": "code",
   "execution_count": 95,
   "id": "b7f40147",
   "metadata": {},
   "outputs": [
    {
     "name": "stdout",
     "output_type": "stream",
     "text": [
      "original dim: torch.Size([60])\n",
      "original dim: torch.Size([1, 60])\n",
      "original dim: torch.Size([60])\n"
     ]
    }
   ],
   "source": [
    "values = torch.arange(1,61)\n",
    "print(f'original dim: {values.shape}')\n",
    "a = values.reshape(1,-1)\n",
    "print(f'original dim: {a.shape}')\n",
    "# removing 1 dimensions value using squeeze\n",
    "remove_dims = torch.squeeze(a)\n",
    "print(f'original dim: {remove_dims.shape}')"
   ]
  },
  {
   "cell_type": "code",
   "execution_count": 96,
   "id": "0abf4ccd",
   "metadata": {},
   "outputs": [
    {
     "name": "stdout",
     "output_type": "stream",
     "text": [
      "original dim: torch.Size([60])\n",
      "original dim: torch.Size([1, 60])\n"
     ]
    }
   ],
   "source": [
    "# unsqueeze\n",
    "import warnings \n",
    "warnings.filterwarnings('ignore')\n",
    "\n",
    "values = torch.range(1,60)\n",
    "print(f'original dim: {values.shape}')\n",
    "\n",
    "#a = values.reshape(1,-1)\n",
    "#print(f'original dim: {a.shape}')\n",
    "# Add 1 dimensions value using squeeze\n",
    " \n",
    "add_dims = torch.unsqueeze(values,dim=0)\n",
    "print(f'original dim: {add_dims.shape}')"
   ]
  },
  {
   "cell_type": "code",
   "execution_count": 99,
   "id": "1245c923",
   "metadata": {},
   "outputs": [
    {
     "name": "stdout",
     "output_type": "stream",
     "text": [
      "tensor([[[ 0.6439,  1.2135, -0.7121, -1.1907],\n",
      "         [-1.0607,  0.3496,  1.4468,  1.6559],\n",
      "         [ 0.2193,  0.1540,  0.0597, -2.1866]],\n",
      "\n",
      "        [[-1.1180,  0.9719, -1.5703,  0.2349],\n",
      "         [-0.1814, -0.6810,  2.3219, -0.8908],\n",
      "         [-0.7606, -0.3630, -0.7854, -0.5862]]])\n",
      "tensor([[[ 0.6439, -1.1180],\n",
      "         [ 1.2135,  0.9719],\n",
      "         [-0.7121, -1.5703],\n",
      "         [-1.1907,  0.2349]],\n",
      "\n",
      "        [[-1.0607, -0.1814],\n",
      "         [ 0.3496, -0.6810],\n",
      "         [ 1.4468,  2.3219],\n",
      "         [ 1.6559, -0.8908]],\n",
      "\n",
      "        [[ 0.2193, -0.7606],\n",
      "         [ 0.1540, -0.3630],\n",
      "         [ 0.0597, -0.7854],\n",
      "         [-2.1866, -0.5862]]])\n",
      "torch.Size([3, 4, 2])\n"
     ]
    }
   ],
   "source": [
    "x = torch.randn(2,3,4)\n",
    "print(x)\n",
    "c = torch.permute(x, (1, 2, 0))  # each value represents to its index on original thing 1 is index and its value is 3 \n",
    "\n",
    "print(c)\n",
    "print(c.shape)"
   ]
  },
  {
   "cell_type": "markdown",
   "id": "55e73232",
   "metadata": {},
   "source": [
    "### Indexinig concepts using torch"
   ]
  },
  {
   "cell_type": "code",
   "execution_count": 100,
   "id": "551d6a51",
   "metadata": {},
   "outputs": [
    {
     "data": {
      "text/plain": [
       "tensor([[[ 1,  2,  3,  4,  5,  6],\n",
       "         [ 7,  8,  9, 10, 11, 12]],\n",
       "\n",
       "        [[13, 14, 15, 16, 17, 18],\n",
       "         [19, 20, 21, 22, 23, 24]],\n",
       "\n",
       "        [[25, 26, 27, 28, 29, 30],\n",
       "         [31, 32, 33, 34, 35, 36]],\n",
       "\n",
       "        [[37, 38, 39, 40, 41, 42],\n",
       "         [43, 44, 45, 46, 47, 48]],\n",
       "\n",
       "        [[49, 50, 51, 52, 53, 54],\n",
       "         [55, 56, 57, 58, 59, 60]]])"
      ]
     },
     "execution_count": 100,
     "metadata": {},
     "output_type": "execute_result"
    }
   ],
   "source": [
    "x = torch.arange(1,61).reshape(5,2,6)\n",
    "x"
   ]
  },
  {
   "cell_type": "code",
   "execution_count": 101,
   "id": "2670a6e2",
   "metadata": {},
   "outputs": [
    {
     "name": "stdout",
     "output_type": "stream",
     "text": [
      "tensor(44)\n"
     ]
    }
   ],
   "source": [
    "print(x[3][1][1])"
   ]
  },
  {
   "cell_type": "code",
   "execution_count": 102,
   "id": "37769f75",
   "metadata": {},
   "outputs": [
    {
     "name": "stdout",
     "output_type": "stream",
     "text": [
      "tensor([[37, 38, 39, 40, 41, 42],\n",
      "        [43, 44, 45, 46, 47, 48]])\n"
     ]
    }
   ],
   "source": [
    "print(x[3][:][:])"
   ]
  },
  {
   "cell_type": "markdown",
   "id": "c9f7c2dc",
   "metadata": {},
   "source": [
    "### Pytorch and Numpy \n",
    "- numpy to Pytorch \n",
    "- Pytorch to numpy "
   ]
  },
  {
   "cell_type": "markdown",
   "id": "be529a18",
   "metadata": {},
   "source": [
    "- Default dtype for numpy was float32\n",
    "- Default dtype for PyTorch was float64"
   ]
  },
  {
   "cell_type": "code",
   "execution_count": 105,
   "id": "e6fd7fb2",
   "metadata": {},
   "outputs": [
    {
     "name": "stdout",
     "output_type": "stream",
     "text": [
      "[ 1.  2.  3.  4.  5.  6.  7.  8.  9. 10.]\n",
      "float64\n",
      "tensor([ 1.,  2.,  3.,  4.,  5.,  6.,  7.,  8.,  9., 10.], dtype=torch.float64)\n",
      "torch.float64\n"
     ]
    }
   ],
   "source": [
    "# numpy to torch \n",
    "\n",
    "\n",
    "num_array = np.arange(1.,11.)\n",
    "print(num_array)\n",
    "print(num_array.dtype)\n",
    "convert_tensor = torch.from_numpy(num_array)\n",
    "print(convert_tensor)\n",
    "print(convert_tensor.dtype)"
   ]
  },
  {
   "cell_type": "code",
   "execution_count": 106,
   "id": "e7a5c60f",
   "metadata": {},
   "outputs": [
    {
     "name": "stdout",
     "output_type": "stream",
     "text": [
      "tensor([ 1.,  2.,  3.,  4.,  5.,  6.,  7.,  8.,  9., 10.])\n",
      "torch.float32\n",
      "[ 1.  2.  3.  4.  5.  6.  7.  8.  9. 10.]\n",
      "float32\n"
     ]
    }
   ],
   "source": [
    "# torch to numpy\n",
    "\n",
    "torch_array = torch.arange(1.,11.)\n",
    "print(torch_array)\n",
    "print(torch_array.dtype)\n",
    "convert_tensor = torch_array.numpy()\n",
    "print(convert_tensor)\n",
    "print(convert_tensor.dtype)"
   ]
  },
  {
   "cell_type": "markdown",
   "id": "1e745ea8",
   "metadata": {},
   "source": [
    "### Reproducibility "
   ]
  },
  {
   "cell_type": "markdown",
   "id": "984b329d",
   "metadata": {},
   "source": [
    "- Making random values same for every time using seed module "
   ]
  },
  {
   "cell_type": "code",
   "execution_count": 116,
   "id": "ad83b399",
   "metadata": {},
   "outputs": [
    {
     "name": "stdout",
     "output_type": "stream",
     "text": [
      "tensor([[0.9516, 0.0753, 0.8860],\n",
      "        [0.5832, 0.3376, 0.8090]])\n",
      "tensor([[0.5779, 0.9040, 0.5547],\n",
      "        [0.3423, 0.6343, 0.3644]])\n",
      "tensor([[False, False, False],\n",
      "        [False, False, False]])\n"
     ]
    }
   ],
   "source": [
    "a = torch.rand(2,3)\n",
    "b = torch.rand(2,3)\n",
    "print(a)\n",
    "print(b)\n",
    "print(a == b)"
   ]
  },
  {
   "cell_type": "code",
   "execution_count": 118,
   "id": "dcaab002",
   "metadata": {},
   "outputs": [
    {
     "name": "stdout",
     "output_type": "stream",
     "text": [
      "tensor([[0.8823, 0.9150, 0.3829],\n",
      "        [0.9593, 0.3904, 0.6009]])\n",
      "tensor([[0.8823, 0.9150, 0.3829],\n",
      "        [0.9593, 0.3904, 0.6009]])\n",
      "tensor([[True, True, True],\n",
      "        [True, True, True]])\n"
     ]
    }
   ],
   "source": [
    "seed = 42\n",
    "torch.manual_seed(seed)\n",
    "a = torch.rand(2,3)\n",
    "torch.manual_seed(42)\n",
    "b = torch.rand(2,3)\n",
    "print(a)\n",
    "print(b)\n",
    "print(a == b)"
   ]
  },
  {
   "cell_type": "markdown",
   "id": "36c1bdaa",
   "metadata": {},
   "source": [
    "- with numpy "
   ]
  },
  {
   "cell_type": "code",
   "execution_count": 120,
   "id": "47e7ca22",
   "metadata": {},
   "outputs": [
    {
     "name": "stdout",
     "output_type": "stream",
     "text": [
      "[[0.40705257 0.72824331]\n",
      " [0.26129222 0.58916409]\n",
      " [0.18465088 0.97018141]]\n",
      "[[0.38292185 0.31215803]\n",
      " [0.12539772 0.93936589]\n",
      " [0.96967379 0.73503137]]\n",
      "[[False False]\n",
      " [False False]\n",
      " [False False]]\n"
     ]
    }
   ],
   "source": [
    "a1 = np.random.rand(3,2)\n",
    "b1 = np.random.rand(3,2)\n",
    "print(a1)\n",
    "print(b1)\n",
    "print(a1 == b1)"
   ]
  },
  {
   "cell_type": "code",
   "execution_count": 124,
   "id": "45b2dbab",
   "metadata": {},
   "outputs": [
    {
     "name": "stdout",
     "output_type": "stream",
     "text": [
      "[[0.37454012 0.95071431]\n",
      " [0.73199394 0.59865848]\n",
      " [0.15601864 0.15599452]]\n",
      "[[0.37454012 0.95071431]\n",
      " [0.73199394 0.59865848]\n",
      " [0.15601864 0.15599452]]\n",
      "[[ True  True]\n",
      " [ True  True]\n",
      " [ True  True]]\n"
     ]
    }
   ],
   "source": [
    "seed = 42\n",
    "np.random.seed(seed)\n",
    "a1 = np.random.rand(3,2)\n",
    "np.random.seed(seed)\n",
    "b1 = np.random.rand(3,2)\n",
    "print(a1)\n",
    "print(b1)\n",
    "print(a1 == b1)"
   ]
  },
  {
   "cell_type": "markdown",
   "id": "e234ed39",
   "metadata": {},
   "source": [
    "### checking for GPU access for PyTorch "
   ]
  },
  {
   "cell_type": "code",
   "execution_count": 125,
   "id": "01b4a575",
   "metadata": {},
   "outputs": [
    {
     "data": {
      "text/plain": [
       "True"
      ]
     },
     "execution_count": 125,
     "metadata": {},
     "output_type": "execute_result"
    }
   ],
   "source": [
    "torch.cuda.is_available()"
   ]
  },
  {
   "cell_type": "markdown",
   "id": "994d7c30",
   "metadata": {},
   "source": [
    "### setup device agnostic code "
   ]
  },
  {
   "cell_type": "code",
   "execution_count": 141,
   "id": "fc2f46b7",
   "metadata": {},
   "outputs": [
    {
     "data": {
      "text/plain": [
       "'cuda'"
      ]
     },
     "execution_count": 141,
     "metadata": {},
     "output_type": "execute_result"
    }
   ],
   "source": [
    "d = 'cuda' if torch.cuda.is_available() else 'cpu'\n",
    "d"
   ]
  },
  {
   "cell_type": "markdown",
   "id": "6e1989e5",
   "metadata": {},
   "source": [
    "### Count the number of devices "
   ]
  },
  {
   "cell_type": "code",
   "execution_count": 127,
   "id": "ad480d9b",
   "metadata": {},
   "outputs": [
    {
     "data": {
      "text/plain": [
       "1"
      ]
     },
     "execution_count": 127,
     "metadata": {},
     "output_type": "execute_result"
    }
   ],
   "source": [
    "torch.cuda.device_count()"
   ]
  },
  {
   "cell_type": "markdown",
   "id": "fe04444e",
   "metadata": {},
   "source": [
    "### Creating tensors on gpu "
   ]
  },
  {
   "cell_type": "code",
   "execution_count": 142,
   "id": "c0252d44",
   "metadata": {},
   "outputs": [
    {
     "name": "stdout",
     "output_type": "stream",
     "text": [
      "tensor([1, 2, 3, 4])\n"
     ]
    }
   ],
   "source": [
    "# default tensors will be work on cpu \n",
    "tensor_cpu = torch.tensor([1,2,3,4])\n",
    "print(tensor_cpu)"
   ]
  },
  {
   "cell_type": "code",
   "execution_count": 143,
   "id": "e6c7ae0a",
   "metadata": {},
   "outputs": [
    {
     "name": "stdout",
     "output_type": "stream",
     "text": [
      "cpu\n"
     ]
    }
   ],
   "source": [
    "print(tensor_cpu.device)"
   ]
  },
  {
   "cell_type": "code",
   "execution_count": 144,
   "id": "cab4f450",
   "metadata": {},
   "outputs": [
    {
     "name": "stdout",
     "output_type": "stream",
     "text": [
      "cuda:0\n"
     ]
    }
   ],
   "source": [
    "# Making Tensors on gpu \n",
    "\n",
    "tensor_cpu = torch.tensor([1,2,3,4])\n",
    "tensor_gpu = tensor_cpu.to(d)  # converting cpu to gpu \n",
    "print(tensor_gpu.device)"
   ]
  },
  {
   "cell_type": "code",
   "execution_count": 145,
   "id": "963abac8",
   "metadata": {},
   "outputs": [
    {
     "data": {
      "text/plain": [
       "array([1, 2, 3, 4], dtype=int64)"
      ]
     },
     "execution_count": 145,
     "metadata": {},
     "output_type": "execute_result"
    }
   ],
   "source": [
    "## convert cpu created tensors into numpy \n",
    "\n",
    "tensor_cpu = torch.tensor([1,2,3,4])\n",
    "num_array = tensor_cpu.numpy()\n",
    "num_array"
   ]
  },
  {
   "cell_type": "code",
   "execution_count": 148,
   "id": "4c89b280",
   "metadata": {},
   "outputs": [
    {
     "ename": "TypeError",
     "evalue": "can't convert cuda:0 device type tensor to numpy. Use Tensor.cpu() to copy the tensor to host memory first.",
     "output_type": "error",
     "traceback": [
      "\u001b[1;31m---------------------------------------------------------------------------\u001b[0m",
      "\u001b[1;31mTypeError\u001b[0m                                 Traceback (most recent call last)",
      "\u001b[1;32m~\\AppData\\Local\\Temp/ipykernel_37848/3900787892.py\u001b[0m in \u001b[0;36m<module>\u001b[1;34m\u001b[0m\n\u001b[0;32m      5\u001b[0m \u001b[0mtensor_gpu\u001b[0m \u001b[1;33m=\u001b[0m \u001b[0mtorch\u001b[0m\u001b[1;33m.\u001b[0m\u001b[0mtensor\u001b[0m\u001b[1;33m(\u001b[0m\u001b[1;33m[\u001b[0m\u001b[1;36m1\u001b[0m\u001b[1;33m,\u001b[0m\u001b[1;36m2\u001b[0m\u001b[1;33m,\u001b[0m\u001b[1;36m3\u001b[0m\u001b[1;33m,\u001b[0m\u001b[1;36m4\u001b[0m\u001b[1;33m]\u001b[0m\u001b[1;33m,\u001b[0m\u001b[0mdevice\u001b[0m \u001b[1;33m=\u001b[0m \u001b[1;34m'cuda'\u001b[0m\u001b[1;33m)\u001b[0m\u001b[1;33m\u001b[0m\u001b[1;33m\u001b[0m\u001b[0m\n\u001b[0;32m      6\u001b[0m \u001b[1;33m\u001b[0m\u001b[0m\n\u001b[1;32m----> 7\u001b[1;33m \u001b[0mnum_array1\u001b[0m \u001b[1;33m=\u001b[0m \u001b[0mtensor_gpu\u001b[0m\u001b[1;33m.\u001b[0m\u001b[0mnumpy\u001b[0m\u001b[1;33m(\u001b[0m\u001b[1;33m)\u001b[0m\u001b[1;33m\u001b[0m\u001b[1;33m\u001b[0m\u001b[0m\n\u001b[0m\u001b[0;32m      8\u001b[0m \u001b[0mnum_array1\u001b[0m\u001b[1;33m\u001b[0m\u001b[1;33m\u001b[0m\u001b[0m\n",
      "\u001b[1;31mTypeError\u001b[0m: can't convert cuda:0 device type tensor to numpy. Use Tensor.cpu() to copy the tensor to host memory first."
     ]
    }
   ],
   "source": [
    "## convert gpu created tensors into numpy \n",
    "# numpy will not work with gpu so first convert gpu tensors into cpu and from cpu to numpy \n",
    "\n",
    "\n",
    "tensor_gpu = torch.tensor([1,2,3,4],device = 'cuda')\n",
    "\n",
    "num_array1 = tensor_gpu.numpy()\n",
    "num_array1"
   ]
  },
  {
   "cell_type": "code",
   "execution_count": 149,
   "id": "40bc8821",
   "metadata": {},
   "outputs": [
    {
     "data": {
      "text/plain": [
       "array([1, 2, 3, 4], dtype=int64)"
      ]
     },
     "execution_count": 149,
     "metadata": {},
     "output_type": "execute_result"
    }
   ],
   "source": [
    "## convert gpu created tensors into numpy \n",
    "# numpy will not work with gpu so first convert gpu tensors into cpu and from cpu to numpy \n",
    "\n",
    "\n",
    "tensor_gpu = torch.tensor([1,2,3,4],device = 'cuda')\n",
    "num_array = tensor_gpu.cpu()\n",
    "num_array1 = num_array.numpy()\n",
    "num_array1"
   ]
  },
  {
   "cell_type": "code",
   "execution_count": null,
   "id": "e6150850",
   "metadata": {},
   "outputs": [],
   "source": []
  }
 ],
 "metadata": {
  "kernelspec": {
   "display_name": "Python 3 (ipykernel)",
   "language": "python",
   "name": "python3"
  },
  "language_info": {
   "codemirror_mode": {
    "name": "ipython",
    "version": 3
   },
   "file_extension": ".py",
   "mimetype": "text/x-python",
   "name": "python",
   "nbconvert_exporter": "python",
   "pygments_lexer": "ipython3",
   "version": "3.9.15"
  }
 },
 "nbformat": 4,
 "nbformat_minor": 5
}
